{
 "cells": [
  {
   "cell_type": "code",
   "execution_count": 1,
   "metadata": {},
   "outputs": [],
   "source": [
    "import pandas as pd\n",
    "import numpy as np\n",
    "import matplotlib.pyplot as plt\n",
    "import seaborn as sns\n",
    "%matplotlib inline\n",
    "import warnings\n",
    "warnings.filterwarnings('ignore')\n",
    "\n",
    "from sklearn.neighbors import KNeighborsClassifier\n",
    "from sklearn.tree import DecisionTreeClassifier\n",
    "from sklearn.naive_bayes import GaussianNB\n",
    "from sklearn.ensemble import RandomForestClassifier, GradientBoostingClassifier\n",
    "\n",
    "from sklearn.tree import DecisionTreeClassifier\n",
    "from sklearn.ensemble import RandomForestClassifier, AdaBoostClassifier\n",
    "from sklearn.svm import SVC\n",
    "from sklearn.neighbors import KNeighborsClassifier\n",
    "from sklearn.pipeline import make_pipeline\n",
    "from sklearn.model_selection import cross_val_score, train_test_split\n",
    "from sklearn.feature_selection import SelectKBest, f_classif\n",
    "from sklearn.preprocessing import PolynomialFeatures, StandardScaler\n",
    "\n",
    "from sklearn.model_selection import train_test_split\n",
    "from sklearn.metrics import f1_score, confusion_matrix, classification_report\n",
    "from sklearn.model_selection import learning_curve\n",
    "from xgboost import XGBClassifier\n",
    "\n",
    "from sklearn.metrics import (\n",
    "    accuracy_score,\n",
    "    precision_score,\n",
    "    recall_score,\n",
    "    f1_score\n",
    ")\n"
   ]
  },
  {
   "cell_type": "code",
   "execution_count": 2,
   "metadata": {},
   "outputs": [],
   "source": [
    "# Fixing the directory path \n",
    "import os\n",
    "os.chdir(\"C:/Users/RAZER BLADE/Downloads/AI Path/Multi-Class-Classification\")"
   ]
  },
  {
   "cell_type": "code",
   "execution_count": 3,
   "metadata": {},
   "outputs": [],
   "source": [
    "data = pd.read_csv(\"Datasets/train.csv\")"
   ]
  },
  {
   "cell_type": "code",
   "execution_count": 4,
   "metadata": {},
   "outputs": [],
   "source": [
    "# log loss function \n",
    "def log_loss(Y_test, y_pred_proba):\n",
    "    \"\"\"\n",
    "    Calcule l'opposé de la log-vraisemblance pour un problème de classification multiclasse.\n",
    "    \n",
    "    :param Y_test: ndarray de shape (N, M), les vérités terrain encodées en one-hot (1 pour la classe vraie, 0 sinon).\n",
    "    :param y_pred: ndarray de shape (N, M), les probabilités prédites pour chaque classe.\n",
    "                   Chaque ligne doit contenir les probabilités non normalisées.\n",
    "    :return: float, la log-vraisemblance négative normalisée.\n",
    "    \"\"\"\n",
    "    # Normaliser les probabilités\n",
    "    y_pred_proba = y_pred_proba / np.sum(y_pred_proba, axis=1, keepdims=True)\n",
    "    \n",
    "    # Éviter les extrêmes du logarithme\n",
    "    epsilon = 1e-15\n",
    "    y_pred_proba = np.clip(y_pred_proba, epsilon, 1 - epsilon)\n",
    "\n",
    "    N = Y_test.shape[0]\n",
    "    M = y_pred_proba.shape[1]\n",
    "    y_one_hot = np.zeros((N, M))\n",
    "    y_one_hot[np.arange(N), Y_test] = 1\n",
    "    \n",
    "    # Calcul de la log-vraisemblance\n",
    "    log_loss = -np.sum(y_one_hot * np.log(y_pred_proba)) / Y_test.shape[0]\n",
    "    \n",
    "    return log_loss\n",
    "\n",
    "# Evaluation function with multiple metrics \n",
    "def evaluate_model(Y_test, Y_pred, y_pred_proba):\n",
    "\n",
    "    loglosss = log_loss(Y_test, y_pred_proba)\n",
    "    accuracy = accuracy_score(Y_test, Y_pred)\n",
    "    precision = precision_score(Y_test, Y_pred, average='micro')\n",
    "    recall = recall_score(Y_test, Y_pred, average='micro')\n",
    "    f1 = f1_score(Y_test, Y_pred, average='micro')\n",
    "    \n",
    "    return accuracy, precision, recall, f1, loglosss"
   ]
  },
  {
   "cell_type": "code",
   "execution_count": 5,
   "metadata": {},
   "outputs": [],
   "source": [
    "# Initialize the set of models \n",
    "models = {\n",
    "    'k-Nearest Neighbors': KNeighborsClassifier(n_neighbors=5),  # Default k=5\n",
    "    'Decision Tree': DecisionTreeClassifier(max_depth=None, random_state=42),\n",
    "    'Naive Bayes': GaussianNB(),\n",
    "    'Random Forest': RandomForestClassifier(n_estimators=100, random_state=42),\n",
    "    'Gradient Boosting': GradientBoostingClassifier(n_estimators=100, learning_rate=0.1, random_state=42),\n",
    "    'xgboost': XGBClassifier( n_estimators=100, max_depth=200)\n",
    "}"
   ]
  },
  {
   "cell_type": "code",
   "execution_count": 41,
   "metadata": {},
   "outputs": [],
   "source": [
    "def trainning_models(models, X_train, Y_train, X_test, Y_test):\n",
    "    for i in range(len(list(models))):\n",
    "        model = list(models.values())[i]\n",
    "        model.fit(X_train, Y_train) # Train model\n",
    "\n",
    "        # Make predictions\n",
    "        Y_pred = model.predict(X_test)\n",
    "        y_pred_proba = model.predict_proba(X_test)\n",
    "\n",
    "        # Evaluate Test dataset\n",
    "        accuracy, precision, recall, f1, logloss = evaluate_model(Y_test, Y_pred, y_pred_proba)\n",
    "        print(model)\n",
    "        print(\"Accuracy: {0}\".format(accuracy))\n",
    "        print(\"Precision: {0}\".format(precision))\n",
    "        print(\"Recall: {0}\".format(recall))\n",
    "        print(\"f1: {0}\".format(f1))\n",
    "        print(\"logloss: {0}\".format(logloss))\n",
    "        \n",
    "        # Confusion Matrix\n",
    "        cm = confusion_matrix(Y_test, Y_pred)\n",
    "        plt.figure()\n",
    "        sns.heatmap(cm, annot=True, fmt='d', cmap='Blues', xticklabels=list(Y_test.unique()), yticklabels=list(Y_test.unique()))\n",
    "        plt.xlabel('Predicted')\n",
    "        plt.ylabel('Actual')\n",
    "        plt.title('Confusion Matrix')\n",
    "        plt.xticks(rotation=0)\n",
    "        plt.tight_layout()\n",
    "        plt.gca().xaxis.set_label_position('top')  # Move x-axis label to the top\n",
    "        plt.gca().xaxis.tick_top()                # Move x-axis ticks to the top\n",
    "        plt.show()\n",
    "\n",
    "        print('='*35)\n",
    "        print('\\n')"
   ]
  },
  {
   "cell_type": "code",
   "execution_count": null,
   "metadata": {},
   "outputs": [],
   "source": [
    "trainning_models(models, X_train_final, Y_train_final.to_numpy(), X_test_final, Y_test_final)"
   ]
  },
  {
   "cell_type": "code",
   "execution_count": 7,
   "metadata": {},
   "outputs": [],
   "source": [
    "import sys\n",
    "from dataclasses import dataclass\n",
    "\n",
    "import numpy as np \n",
    "import pandas as pd\n",
    "\n",
    "from sklearn.compose import ColumnTransformer\n",
    "from sklearn.impute import SimpleImputer\n",
    "from sklearn.pipeline import Pipeline\n",
    "from sklearn.preprocessing import OneHotEncoder,StandardScaler, OrdinalEncoder, RobustScaler\n",
    "from sklearn.experimental import enable_iterative_imputer\n",
    "\n",
    "from sklearn.impute import IterativeImputer, KNNImputer\n",
    "from sklearn.linear_model import LinearRegression\n",
    "\n",
    "from src.exception import CustomException\n",
    "from src.logger import logging\n",
    "import os\n",
    "from sklearn.compose import ColumnTransformer\n",
    "import pandas as pd\n"
   ]
  },
  {
   "cell_type": "markdown",
   "metadata": {},
   "source": [
    "# Modular Pipelines"
   ]
  },
  {
   "cell_type": "markdown",
   "metadata": {},
   "source": [
    "# Imputing Nan values"
   ]
  },
  {
   "cell_type": "code",
   "execution_count": 8,
   "metadata": {},
   "outputs": [],
   "source": [
    "def imputing_numerical(X_train_num, X_test_num):\n",
    "        imputer = IterativeImputer(estimator=LinearRegression(), max_iter=10, random_state = 0)\n",
    "        imputer.fit(X_train_num)\n",
    "        X_train_num_imputed = imputer.transform(X_train_num)\n",
    "        X_test_num_imputed = imputer.transform(X_test_num)\n",
    "\n",
    "        X_train_num_imputed = pd.DataFrame(X_train_num_imputed)\n",
    "        X_train_num_imputed.columns = X_train_num.columns\n",
    "        X_test_num_imputed = pd.DataFrame(X_test_num_imputed)\n",
    "        X_test_num_imputed.columns = X_test_num.columns\n",
    "        return X_train_num_imputed, X_test_num_imputed\n",
    "\n",
    "def imputing_categorical(df_fill):\n",
    "    for col in df_fill.columns:\n",
    "        if df_fill[col].isna().any():\n",
    "            df_fill.loc[:, col] = df_fill[col].fillna(df_fill[col].mode()[0])\n",
    "    return df_fill\n"
   ]
  },
  {
   "cell_type": "markdown",
   "metadata": {},
   "source": [
    "# Encoding "
   ]
  },
  {
   "cell_type": "code",
   "execution_count": 43,
   "metadata": {},
   "outputs": [],
   "source": [
    "def encoding_mixed(X_train_cat_imputed, X_test_cat_imputed, onehot_cols, ordinal_cols):\n",
    "    # Define the transformers for one-hot and ordinal encoding\n",
    "    transformers = [\n",
    "        ('onehot', OneHotEncoder(handle_unknown='ignore', sparse_output=False), onehot_cols),\n",
    "        ('ordinal', OrdinalEncoder(handle_unknown='use_encoded_value', unknown_value=-1), ordinal_cols)\n",
    "    ]\n",
    "\n",
    "    # Create the ColumnTransformer\n",
    "    column_transformer = ColumnTransformer(transformers, remainder='passthrough')\n",
    "\n",
    "    # Fit the transformer on the training set and transform both datasets\n",
    "    X_train_encoded = column_transformer.fit_transform(X_train_cat_imputed)\n",
    "    X_test_encoded = column_transformer.transform(X_test_cat_imputed)\n",
    "\n",
    "    # Get feature names for one-hot encoded columns\n",
    "    onehot_feature_names = column_transformer.named_transformers_['onehot'].get_feature_names_out(onehot_cols)\n",
    "\n",
    "    # Combine the one-hot and ordinal column names\n",
    "    all_columns = list(onehot_feature_names) + ordinal_cols + [\n",
    "        col for col in X_train_cat_imputed.columns if col not in onehot_cols + ordinal_cols\n",
    "    ]\n",
    "\n",
    "    # Convert to DataFrame with proper column names\n",
    "    X_train_encoded = pd.DataFrame(X_train_encoded, columns=all_columns, index=X_train_cat_imputed.index)\n",
    "    X_test_encoded = pd.DataFrame(X_test_encoded, columns=all_columns, index=X_test_cat_imputed.index)\n",
    "\n",
    "    return X_train_encoded, X_test_encoded\n",
    "\n",
    "\n",
    "def target_encoding(Y):\n",
    "    code = {'C':0,'CL':1, 'D':2}\n",
    "    Y = Y.map(code)\n",
    "    return Y\n"
   ]
  },
  {
   "cell_type": "markdown",
   "metadata": {},
   "source": [
    "# Scaling "
   ]
  },
  {
   "cell_type": "code",
   "execution_count": 44,
   "metadata": {},
   "outputs": [],
   "source": [
    "def scaling(X_train, X_test):\n",
    "    X_train_tf = X_train.copy()\n",
    "    X_test_tf = X_test.copy()\n",
    "\n",
    "    log_features = ['N_Days', 'Bilirubin', 'Cholesterol', 'Alk_Phos', 'SGOT', 'Tryglicerides']\n",
    "    numerical_features = [col for col in X_train.select_dtypes('float').columns if col not in log_features and col != 'Stage']\n",
    "    \n",
    "    # only scale numeric varaibles in this case rather than the dummy variables for categories \n",
    "    rob = RobustScaler()\n",
    "    X_train_tf.loc[:, numerical_features] = rob.fit_transform(X_train_tf.loc[:, numerical_features])\n",
    "    X_test_tf.loc[:, numerical_features] = rob.transform(X_test_tf.loc[:, numerical_features])\n",
    "\n",
    "    # log \n",
    "    X_train_tf.loc[:, log_features] = X_train_tf.loc[:, log_features].apply(np.log1p)\n",
    "    X_test_tf.loc[:, log_features] = X_test_tf.loc[:, log_features].apply(np.log1p)\n",
    "\n",
    "\n",
    "    return X_train_tf, X_test_tf\n"
   ]
  },
  {
   "cell_type": "code",
   "execution_count": 63,
   "metadata": {},
   "outputs": [],
   "source": [
    "def feature_engineering_numerical(X_num):\n",
    "\n",
    "    X_num.loc[:, 'Age'] = X_num['Age'] / 365\n",
    "    X_num['Bilirubin / Albumin'] = X_num['Bilirubin'] / X_num['Albumin']\n",
    "    X_num['SGOT / Platelets'] = X_num['SGOT'] / X_num['Platelets']\n",
    "    X_num['ISH'] = 0.4 * X_num['Cholesterol'] + 0.4 * X_num['Tryglicerides'] + 0.2 * X_num['Albumin']\n",
    "    X_num['Coagulation_Score'] = X_num['Prothrombin'] / X_num['Platelets']\n",
    "\n",
    "    return X_num\n",
    "\n",
    "def feature_engineering_categorical(X_cat):\n",
    "    #X_cat[\"Severe_Water_Retention\"] = (X_cat[\"Edema\"]  & X_cat[\"Ascites\"])\n",
    "\n",
    "    return X_cat\n",
    "\n",
    "\n",
    "    "
   ]
  },
  {
   "cell_type": "markdown",
   "metadata": {},
   "source": [
    "# Global Transformation function "
   ]
  },
  {
   "cell_type": "code",
   "execution_count": 55,
   "metadata": {},
   "outputs": [],
   "source": [
    "def initiate_data_transformation(dataset):\n",
    "\n",
    "    # Specifiyng columns\n",
    "    target_column_name = \"Status\"\n",
    "    numerical_columns = ['N_Days', 'Bilirubin', 'Cholesterol', \n",
    "                        'Albumin', 'Copper', 'Alk_Phos',\n",
    "                        'SGOT', 'Tryglicerides', 'Platelets', \n",
    "                        'Prothrombin', 'Age']\n",
    "    categorical_columns = ['Stage','Drug', 'Sex', 'Ascites', 'Hepatomegaly', 'Spiders', 'Edema']\n",
    "    columns_delete = ['id']\n",
    "\n",
    "    # Splitting the matrices \n",
    "    dataset['Stage'] = dataset['Stage'].astype(object)\n",
    "    Y = dataset[target_column_name]\n",
    "    X = dataset.drop([target_column_name] + columns_delete, axis=1)\n",
    "\n",
    "    # Basic preprocessing \n",
    "    X.loc[X['Hepatomegaly'] == '119.35', 'Hepatomegaly'] = X['Hepatomegaly'].mode()[0]\n",
    "    X.loc[X['Ascites'] == 'S', 'Ascites'] = X['Ascites'].mode()[0]\n",
    "    X.loc[X['Ascites'] == 'D-penicillamine', 'Ascites'] = X['Ascites'].mode()[0]\n",
    "    \n",
    "\n",
    "\n",
    "    \n",
    "    # Preparing the X_train, Y_train, X_test, Y_test with stratified method\n",
    "    X_train, X_test, Y_train, Y_test = train_test_split(\n",
    "    X, Y, test_size=0.1, random_state=42, stratify=Y)\n",
    "\n",
    "    # SPLITTING Categorical and numerical \n",
    "\n",
    "    # Train \n",
    "    X_train_num = X_train[numerical_columns]\n",
    "    X_train_cat = X_train[categorical_columns]\n",
    "    # Test \n",
    "    X_test_num = X_test[numerical_columns]\n",
    "    X_test_cat = X_test[categorical_columns]\n",
    "\n",
    "\n",
    "\n",
    "    # Imputing Data (Null Values)\n",
    "    # For numerical Features \n",
    "    X_train_num_imputed, X_test_num_imputed = imputing_numerical(X_train_num, X_test_num)\n",
    "    # For Categorical Features\n",
    "    X_train_cat_imputed, X_test_cat_imputed = imputing_categorical(X_train_cat), imputing_categorical(X_test_cat)\n",
    "                \n",
    "\n",
    "    # Feature engineering \n",
    "\n",
    "    # Encoding Categorical Features\n",
    "    onehot_cols = ['Edema']  # one-hot encoded column names\n",
    "    ordinal_cols = ['Ascites', 'Drug', 'Sex', 'Hepatomegaly','Spiders', 'Stage']  # ordinal encoded column names\n",
    "    X_train_cat_encoded, X_test_cat_encoded = encoding_mixed(X_train_cat_imputed, X_test_cat_imputed, onehot_cols, ordinal_cols)\n",
    "    #X_train_cat_encoded, X_test_cat_encoded = encoding_target_kfold(X_train_cat_imputed, X_test_cat_imputed, Y_train, cat_cols=categorical_columns, n_splits=5)\n",
    "\n",
    "    # Target Encoding \n",
    "    Y_train_final = target_encoding(Y_train)\n",
    "    Y_test_final = target_encoding(Y_test)\n",
    "\n",
    "    # Custom Feature functions \n",
    "    X_train_num_ft, X_test_num_ft = feature_engineering_numerical(X_train_num_imputed), feature_engineering_numerical(X_test_num_imputed) \n",
    "    X_train_cat_ft, X_test_cat_ft = feature_engineering_categorical(X_train_cat_encoded), feature_engineering_categorical(X_test_cat_encoded)\n",
    "\n",
    "\n",
    "\n",
    "    # Scaling numerical Features\n",
    "    X_train_tf, X_test_tf = scaling(X_train_num_ft, X_test_num_ft) \n",
    "    \n",
    "\n",
    "    # Final concatenation of numerical and categorical features into one Dataset\n",
    "\n",
    "    X_train_final = pd.concat([X_train_tf.reset_index().drop('index', axis=1), X_train_cat_ft.reset_index().drop('index', axis=1)], axis=1)\n",
    "    X_test_final = pd.concat([X_test_tf.reset_index().drop('index', axis=1), X_test_cat_ft.reset_index().drop('index', axis=1)], axis=1)\n",
    "\n",
    "\n",
    "    return (\n",
    "        X_train_final,\n",
    "        X_test_final,\n",
    "        Y_train_final,\n",
    "        Y_test_final\n",
    "    )"
   ]
  },
  {
   "cell_type": "code",
   "execution_count": 64,
   "metadata": {},
   "outputs": [],
   "source": [
    "X_train_final, X_test_final, Y_train_final, Y_test_final = initiate_data_transformation(data)"
   ]
  },
  {
   "cell_type": "code",
   "execution_count": 71,
   "metadata": {},
   "outputs": [
    {
     "name": "stdout",
     "output_type": "stream",
     "text": [
      "logloss: 0.37367960159912217\n"
     ]
    }
   ],
   "source": [
    "# This is a function to optimize \n",
    "def model_fit(X_new, Y_train, X_test_final, Y_test_final):\n",
    "    model = GradientBoostingClassifier(n_estimators=100, learning_rate=0.1, random_state=42)\n",
    "    model.fit(X_new, Y_train) # Train model\n",
    "\n",
    "    # Make predictions\n",
    "    Y_pred = model.predict(X_test_final[X_new.columns])\n",
    "    y_pred_proba = model.predict_proba(X_test_final[X_new.columns])\n",
    "\n",
    "    # Evaluate Test dataset\n",
    "    _, _, _, _, logloss = evaluate_model(Y_test_final, Y_pred, y_pred_proba)\n",
    "    print(\"logloss: {0}\".format(logloss))\n",
    "model_fit(X_train_final, Y_train_final, X_test_final, Y_test_final)"
   ]
  },
  {
   "cell_type": "markdown",
   "metadata": {},
   "source": [
    "# Feature Selection "
   ]
  },
  {
   "cell_type": "code",
   "execution_count": null,
   "metadata": {},
   "outputs": [
    {
     "name": "stdout",
     "output_type": "stream",
     "text": [
      "25\n"
     ]
    },
    {
     "data": {
      "image/png": "[encoded data removed]",
      "text/plain": [
       "<Figure size 1400x600 with 1 Axes>"
      ]
     },
     "metadata": {},
     "output_type": "display_data"
    },
    {
     "name": "stdout",
     "output_type": "stream",
     "text": [
      "Features sélectionnées : ['Bilirubin / Albumin', 'Prothrombin', 'Bilirubin', 'Copper', 'N_Days', 'SGOT', 'Stage', 'SGOT / Platelets', 'Age', 'Alk_Phos', 'Coagulation_Score', 'Tryglicerides', 'ISH', 'Albumin', 'Platelets', 'Cholesterol']\n",
      "Features sélectionnées : 16\n",
      "logloss: 0.37534029644089517\n"
     ]
    }
   ],
   "source": [
    "# Entraînement d'un modèle basique\n",
    "model = RandomForestClassifier(n_estimators=100, random_state=42)\n",
    "model.fit(X_train_final, Y_train_final)\n",
    "\n",
    "# Récupérer l'importance des features\n",
    "importances = model.feature_importances_\n",
    "features = X_train_final.columns\n",
    "\n",
    "# Trier les features par importance\n",
    "indices = np.argsort(importances)[::-1]\n",
    "print(len(indices))\n",
    "# Affichage des 10 features les plus importantes\n",
    "plt.figure(figsize=(14, 6))\n",
    "plt.title(\"Importance des Features\")\n",
    "plt.bar(range(25), importances[indices[:]], align=\"center\")\n",
    "plt.xticks(range(25), [features[i] for i in indices[:25]], rotation=45)\n",
    "plt.show()\n",
    "\n",
    "# Définir le seuil d'importance des features\n",
    "threshold = 0.01\n",
    "\n",
    "# Sélectionner les features importantes\n",
    "selected_features = [features[i] for i in indices if importances[i] > threshold]\n",
    "\n",
    "# Afficher les features sélectionnées\n",
    "print(\"Features sélectionnées :\", selected_features)\n",
    "\n",
    "# Créer un nouveau DataFrame avec uniquement ces features\n",
    "print(\"Features sélectionnées :\", len(selected_features))\n",
    "\n",
    "def model_fit(X_new, Y_train, X_test_final, Y_test_final):\n",
    "    model = GradientBoostingClassifier(n_estimators=100, learning_rate=0.1, random_state=42)\n",
    "    model.fit(X_new, Y_train) # Train model\n",
    "\n",
    "    # Make predictions\n",
    "    Y_pred = model.predict(X_test_final[X_new.columns])\n",
    "    y_pred_proba = model.predict_proba(X_test_final[X_new.columns])\n",
    "\n",
    "    # Evaluate Test dataset\n",
    "    accuracy, precision, recall, f1, logloss = evaluate_model(Y_test_final, Y_pred, y_pred_proba)\n",
    "    print(\"logloss: {0}\".format(logloss))\n",
    "\n",
    "model_fit(X_train_final[selected_features], Y_train_final, X_test_final, Y_test_final)\n"
   ]
  },
  {
   "cell_type": "markdown",
   "metadata": {},
   "source": [
    "# Model Hyper-tunning"
   ]
  },
  {
   "cell_type": "markdown",
   "metadata": {},
   "source": [
    "#### Using RandomsearchCV"
   ]
  },
  {
   "cell_type": "code",
   "execution_count": 99,
   "metadata": {},
   "outputs": [
    {
     "name": "stdout",
     "output_type": "stream",
     "text": [
      "Fitting 5 folds for each of 30 candidates, totalling 150 fits\n",
      "Best parameters: {'subsample': 0.8, 'scale_pos_weight': 1, 'reg_lambda': 1, 'reg_alpha': 1, 'objective': 'multi:softprob', 'n_estimators': 300, 'min_child_weight': 3, 'max_depth': 3, 'learning_rate': 0.2, 'gamma': 0, 'colsample_bytree': 0.8}\n"
     ]
    }
   ],
   "source": [
    "from sklearn.model_selection import RandomizedSearchCV\n",
    "from xgboost import XGBClassifier\n",
    "\n",
    "# Define XGBoost classifier\n",
    "xgb = XGBClassifier(\n",
    "    tree_method=\"hist\",  \n",
    "    eval_metric=\"mlogloss\",  \n",
    "    use_label_encoder=False\n",
    ")\n",
    "\n",
    "# Parameter grid\n",
    "param_grid = {\n",
    "    'n_estimators': [100, 300, 500, 1000],\n",
    "    'max_depth': [3, 5, 7, 10],\n",
    "    'learning_rate': [0.01, 0.05, 0.1, 0.2],\n",
    "    'subsample': [0.6, 0.8, 1.0],\n",
    "    'colsample_bytree': [0.6, 0.8, 1.0],\n",
    "    'gamma': [0, 0.1, 0.5, 1.0],\n",
    "    'min_child_weight': [1, 3, 5, 10],\n",
    "    'reg_lambda': [0.1, 1, 10],\n",
    "    'reg_alpha': [0, 0.1, 1, 10],\n",
    "    'scale_pos_weight': [1, 5, 10],  # Not usually needed for multiclass but can be tested\n",
    "    'objective': ['multi:softprob'],  # Probabilities for multiclass classification\n",
    "}\n",
    "\n",
    "# Randomized search\n",
    "random_search = RandomizedSearchCV(\n",
    "    estimator=xgb,\n",
    "    param_distributions=param_grid,\n",
    "    n_iter=30,  # Adjust based on available time/resources\n",
    "    scoring='neg_log_loss',  # Log loss for multiclass\n",
    "    cv=5,  # 5-fold cross-validation\n",
    "    verbose=2,\n",
    "    random_state=42,\n",
    "    n_jobs=-1  # Use all CPU cores\n",
    ")\n",
    "\n",
    "# Fit model (Assuming X_train, y_train are defined)\n",
    "random_search.fit(X_train_final, Y_train_final)\n",
    "\n",
    "# Best parameters and model\n",
    "print(\"Best parameters:\", random_search.best_params_)\n",
    "best_model = random_search.best_estimator_\n",
    "\n",
    "best_model.fit(X_train_final,Y_train_final)\n",
    "Y_pred = best_model.predict(X_test_final)\n",
    "y_pred_proba = best_model.predict_proba(X_test_final)\n",
    "\n",
    "    # Evaluate Test dataset\n",
    "accuracy, precision, recall, f1, logloss = evaluate_model(Y_test_final, Y_pred, y_pred_proba)\n",
    "print(\"logloss: {0}\".format(logloss))"
   ]
  },
  {
   "cell_type": "code",
   "execution_count": null,
   "metadata": {},
   "outputs": [],
   "source": [
    "!pip install scikit-optimize"
   ]
  },
  {
   "cell_type": "markdown",
   "metadata": {},
   "source": [
    "### Using BayesSearchCV"
   ]
  },
  {
   "cell_type": "code",
   "execution_count": null,
   "metadata": {},
   "outputs": [],
   "source": [
    "from skopt import BayesSearchCV\n",
    "from xgboost import XGBClassifier\n",
    "from sklearn.metrics import log_loss\n",
    "from sklearn.model_selection import train_test_split\n",
    "\n",
    "# Define XGBoost model\n",
    "xgb = XGBClassifier(\n",
    "    tree_method=\"hist\",  # Optimized for performance\n",
    "    eval_metric=\"mlogloss\",  # Log loss for multiclass classification\n",
    "    use_label_encoder=False\n",
    ")\n",
    "\n",
    "# Bayesian Search Parameter Grid\n",
    "param_grid = {\n",
    "    'n_estimators': (100, 1000),  # Number of boosting rounds\n",
    "    'max_depth': (3, 12),  # Tree depth\n",
    "    'learning_rate': (0.01, 0.3, 'log-uniform'),  # Log scale for better selection\n",
    "    'subsample': (0.5, 1.0),  # Fraction of data per tree\n",
    "    'colsample_bytree': (0.5, 1.0),  # Fraction of features per tree\n",
    "    'gamma': (0, 2.0),  # Minimum loss reduction\n",
    "    'min_child_weight': (1, 10),  # Minimum sum of instance weight\n",
    "    'reg_lambda': (0.01, 10.0, 'log-uniform'),  # L2 regularization\n",
    "    'reg_alpha': (0.01, 10.0, 'log-uniform'),  # L1 regularization\n",
    "}\n",
    "\n",
    "# Define Bayesian Optimization Search\n",
    "bayes_search = BayesSearchCV(\n",
    "    estimator=xgb,\n",
    "    search_spaces=param_grid,\n",
    "    scoring='neg_log_loss',  # Minimizing log loss\n",
    "    n_iter=30,  # Adjust based on time and resources\n",
    "    cv=5,  # 5-fold cross-validation\n",
    "    verbose=2,\n",
    "    random_state=42,\n",
    "    n_jobs=-1  # Use all CPU cores\n",
    ")\n",
    "\n",
    "# Fit model (Assuming X_train, y_train are defined)\n",
    "bayes_search.fit(X_train_final, Y_train_final)\n",
    "\n",
    "# Best parameters and model\n",
    "print(\"Best parameters:\", bayes_search.best_params_)\n",
    "best_model = bayes_search.best_estimator_\n",
    "\n",
    "best_model.fit(X_train_final,Y_train_final)\n",
    "Y_pred = best_model.predict(X_test_final)\n",
    "y_pred_proba = best_model.predict_proba(X_test_final)\n",
    "\n",
    "    # Evaluate Test dataset\n",
    "accuracy, precision, recall, f1, logloss = evaluate_model(Y_test_final, Y_pred, y_pred_proba)\n",
    "print(\"logloss: {0}\".format(logloss))\n"
   ]
  },
  {
   "cell_type": "markdown",
   "metadata": {},
   "source": [
    "### Prediction Pipeline "
   ]
  },
  {
   "cell_type": "code",
   "execution_count": 15,
   "metadata": {},
   "outputs": [],
   "source": [
    "test = pd.read_csv('Datasets/test.csv')"
   ]
  },
  {
   "cell_type": "code",
   "execution_count": 16,
   "metadata": {},
   "outputs": [],
   "source": [
    "def transform_test_data(test_dataset):\n",
    "\n",
    "    # Specifying columns for the transformation pipeline\n",
    "    numerical_columns = ['N_Days', 'Bilirubin', 'Cholesterol', \n",
    "                         'Albumin', 'Copper', 'Alk_Phos',\n",
    "                         'SGOT', 'Tryglicerides', 'Platelets', \n",
    "                         'Prothrombin', 'Stage', 'Age']\n",
    "    categorical_columns = ['Drug', 'Sex', 'Ascites', 'Hepatomegaly', 'Spiders', 'Edema']\n",
    "    columns_delete = ['id']  # Exclude the 'id' column in the test set\n",
    "\n",
    "    # Remove 'id' column from test dataset\n",
    "    X_test = test_dataset.drop(columns_delete, axis=1)\n",
    "    \n",
    "    # Handling missing values (same as during training)\n",
    "    X_test.loc[X_test['Hepatomegaly'] == '119.35', 'Hepatomegaly'] = X_test['Hepatomegaly'].mode()[0]\n",
    "    X_test.loc[X_test['Ascites'] == 'S', 'Ascites'] = X_test['Ascites'].mode()[0]\n",
    "    X_test.loc[X_test['Ascites'] == 'D-penicillamine', 'Ascites'] = X_test['Ascites'].mode()[0]\n",
    "\n",
    "    # Split into numerical and categorical columns\n",
    "    X_test_num = X_test[numerical_columns]\n",
    "    X_test_cat = X_test[categorical_columns]\n",
    "\n",
    "    # Imputation\n",
    "    X_test_num_imputed = imputing_numerical(X_test_num, X_test_num)[1]  # Impute based on the test data itself\n",
    "    X_test_cat_imputed = imputing_categorical(X_test_cat)  # Impute categorical features\n",
    "\n",
    "    # Encoding categorical features\n",
    "    onehot_cols = ['Ascites', 'Edema']  # one-hot encoded columns\n",
    "    ordinal_cols = ['Drug', 'Sex', 'Hepatomegaly', 'Spiders']  # ordinal encoded columns\n",
    "    X_test_cat_encoded = encoding_mixed(X_test_cat_imputed, X_test_cat_imputed, onehot_cols, ordinal_cols)[1]  # Only need the transformed test data\n",
    "\n",
    "    # Feature engineering for numerical and categorical features\n",
    "    X_test_num_ft = feature_engineering_numerical(X_test_num_imputed)\n",
    "    X_test_cat_ft = feature_engineering_categorical(X_test_cat_encoded)\n",
    "\n",
    "    # Scaling numerical features\n",
    "    X_test_tf = scaling(X_test_num_ft, X_test_num_ft)[1]  # Only scale based on test data (no fitting here)\n",
    "\n",
    "    # Final concatenation of transformed numerical and categorical features\n",
    "    X_test_final = pd.concat([X_test_tf.reset_index(drop=True), \n",
    "                              X_test_cat_ft.reset_index(drop=True)], axis=1)\n",
    "\n",
    "    return X_test_final"
   ]
  },
  {
   "cell_type": "code",
   "execution_count": 17,
   "metadata": {},
   "outputs": [
    {
     "ename": "NameError",
     "evalue": "name 'best_model' is not defined",
     "output_type": "error",
     "traceback": [
      "\u001b[1;31m---------------------------------------------------------------------------\u001b[0m",
      "\u001b[1;31mNameError\u001b[0m                                 Traceback (most recent call last)",
      "Cell \u001b[1;32mIn[17], line 2\u001b[0m\n\u001b[0;32m      1\u001b[0m X_test_processed \u001b[38;5;241m=\u001b[39m transform_test_data(test)\n\u001b[1;32m----> 2\u001b[0m best_model\u001b[38;5;241m.\u001b[39mfit(X_train_final, Y_train_final)\n\u001b[0;32m      3\u001b[0m Y_pred \u001b[38;5;241m=\u001b[39m best_model\u001b[38;5;241m.\u001b[39mpredict(X_test_processed)\n\u001b[0;32m      4\u001b[0m y_pred_proba \u001b[38;5;241m=\u001b[39m best_model\u001b[38;5;241m.\u001b[39mpredict_proba(X_test_processed)\n",
      "\u001b[1;31mNameError\u001b[0m: name 'best_model' is not defined"
     ]
    }
   ],
   "source": [
    "X_test_processed = transform_test_data(test)\n",
    "best_model.fit(X_train_final, Y_train_final)\n",
    "Y_pred = best_model.predict(X_test_processed)\n",
    "y_pred_proba = best_model.predict_proba(X_test_processed)"
   ]
  },
  {
   "cell_type": "code",
   "execution_count": 117,
   "metadata": {},
   "outputs": [],
   "source": [
    "submission_df = pd.DataFrame(y_pred_proba, columns=[\"Status_C\", \"Status_CL\", \"Status_D\"])\n",
    "ids = test[\"id\"] \n",
    "submission_df.insert(0, \"id\", ids)\n",
    "submission_df"
   ]
  },
  {
   "cell_type": "code",
   "execution_count": 119,
   "metadata": {},
   "outputs": [],
   "source": [
    "submission_df.to_csv('artifact/submission.csv', index=False)"
   ]
  },
  {
   "cell_type": "code",
   "execution_count": 152,
   "metadata": {},
   "outputs": [
    {
     "name": "stdout",
     "output_type": "stream",
     "text": [
      "Features sélectionnées : ['Bilirubin / Albumin', 'Prothrombin', 'Bilirubin', 'Copper', 'N_Days', 'SGOT', 'Alk_Phos', 'SGOT / Platelets', 'Age', 'Stage', 'Coagulation_Score', 'Tryglicerides', 'Platelets', 'ISH', 'Cholesterol', 'Albumin', 'Hepatomegaly', 'Edema_N', 'Drug', 'Spiders', 'Sex', 'Edema_S']\n",
      "Features sélectionnées : 22\n"
     ]
    }
   ],
   "source": []
  },
  {
   "cell_type": "code",
   "execution_count": 153,
   "metadata": {},
   "outputs": [
    {
     "name": "stdout",
     "output_type": "stream",
     "text": [
      "logloss: 0.3893177210306325\n"
     ]
    }
   ],
   "source": []
  },
  {
   "cell_type": "code",
   "execution_count": null,
   "metadata": {},
   "outputs": [],
   "source": []
  },
  {
   "cell_type": "code",
   "execution_count": null,
   "metadata": {},
   "outputs": [],
   "source": []
  },
  {
   "cell_type": "code",
   "execution_count": null,
   "metadata": {},
   "outputs": [],
   "source": []
  },
  {
   "cell_type": "code",
   "execution_count": null,
   "metadata": {},
   "outputs": [],
   "source": []
  },
  {
   "cell_type": "code",
   "execution_count": null,
   "metadata": {},
   "outputs": [],
   "source": []
  },
  {
   "cell_type": "code",
   "execution_count": null,
   "metadata": {},
   "outputs": [],
   "source": []
  }
 ],
 "metadata": {
  "kernelspec": {
   "display_name": "base",
   "language": "python",
   "name": "python3"
  },
  "language_info": {
   "codemirror_mode": {
    "name": "ipython",
    "version": 3
   },
   "file_extension": ".py",
   "mimetype": "text/x-python",
   "name": "python",
   "nbconvert_exporter": "python",
   "pygments_lexer": "ipython3",
   "version": "3.12.4"
  }
 },
 "nbformat": 4,
 "nbformat_minor": 2
}
